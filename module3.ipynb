{
  "nbformat": 4,
  "nbformat_minor": 0,
  "metadata": {
    "colab": {
      "provenance": [],
      "authorship_tag": "ABX9TyP5KPHjdKJP8ulP5ihvdZOY",
      "include_colab_link": true
    },
    "kernelspec": {
      "name": "python3",
      "display_name": "Python 3"
    },
    "language_info": {
      "name": "python"
    }
  },
  "cells": [
    {
      "cell_type": "markdown",
      "metadata": {
        "id": "view-in-github",
        "colab_type": "text"
      },
      "source": [
        "<a href=\"https://colab.research.google.com/github/Heyiamkaran/KaranKumarSah/blob/main/module3.ipynb\" target=\"_parent\"><img src=\"https://colab.research.google.com/assets/colab-badge.svg\" alt=\"Open In Colab\"/></a>"
      ]
    },
    {
      "cell_type": "code",
      "source": [
        "#Karan Kumar Sah\n",
        "#CSCE 3201.400\n",
        "#Module 3 Assignment\n",
        "\n",
        "import random\n",
        "\n",
        "grid_length = random.randint(5, 20)  # Determines the number of columns\n",
        "grid_width = random.randint(5, 20)   # Determines the number of rows\n",
        "\n",
        "# Generate a random treasure location within the grid\n",
        "treasure_row = random.randint(1, grid_width)  # Random row (1 to grid width)\n",
        "treasure_col = random.randint(1, grid_length)  # Random column (1 to grid length)\n",
        "\n",
        "print(f\"Print the length of the grid on console: {grid_length}\")\n",
        "print(f\"Print the width of the grid on console: {grid_width}\")\n",
        "\n",
        "attempt_count = 0\n",
        "\n",
        "# Guessing the row where the treasure is hidden\n",
        "row_found = False\n",
        "while not row_found:\n",
        "    user_row_guess = int(input(\"Guess the row position of the treasure: \"))\n",
        "    attempt_count += 1\n",
        "    if user_row_guess < treasure_row:\n",
        "        print(f\"You guessed too low for the row position, try again, {attempt_count} attempt(s) used!\")\n",
        "    elif user_row_guess > treasure_row:\n",
        "        print(f\"You guessed too high for the row position, try again, {attempt_count} attempt(s) used!\")\n",
        "    else:\n",
        "        print(f\"You guessed correctly, {attempt_count} attempt(s) used, now try to guess the column position!\")\n",
        "        row_found = True\n",
        "\n",
        "# Guessing the column where the treasure is hidden\n",
        "col_found = False\n",
        "while not col_found:\n",
        "    user_col_guess = int(input(\"Guess the column position of the treasure: \"))\n",
        "    attempt_count += 1\n",
        "    if user_col_guess < treasure_col:\n",
        "        print(f\"You guessed too low for the column position, try again, {attempt_count} attempt(s) used!\")\n",
        "    elif user_col_guess > treasure_col:\n",
        "        print(f\"You guessed too high for the column position, try again, {attempt_count} attempt(s) used!\")\n",
        "    else:\n",
        "        print(f\"You guessed the position of the treasure correctly, {attempt_count} attempt(s) used!\")\n",
        "        col_found = True"
      ],
      "metadata": {
        "colab": {
          "base_uri": "https://localhost:8080/"
        },
        "id": "0x43crXJRobl",
        "outputId": "bfb1ba66-d733-49f3-c8c5-ae27e78edbd8"
      },
      "execution_count": null,
      "outputs": [
        {
          "output_type": "stream",
          "name": "stdout",
          "text": [
            "Print the length of the grid on console: 11\n",
            "Print the width of the grid on console: 10\n"
          ]
        }
      ]
    }
  ]
}